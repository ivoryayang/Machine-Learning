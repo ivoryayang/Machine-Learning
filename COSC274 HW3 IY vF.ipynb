{
 "cells": [
  {
   "cell_type": "markdown",
   "metadata": {
    "id": "NTWSmOwtddM0"
   },
   "source": [
    "# HW3 Binary Classification (Due: Monday, February 19, 2024, 11:59 PM)"
   ]
  },
  {
   "cell_type": "markdown",
   "metadata": {
    "id": "AP2DeJOGddM2"
   },
   "source": [
    "####❗Please submit this notebook (`.ipynb`) with your solutions. The solutions must include the **code**, **explanations** (e.g. *comments*, *figure title, axis labels, and legend*), and the **output of all the cells**. Submitting your solutions without them will lead to `a deduction of points`.\n",
    "\n",
    "####❗Also, note that you should **cite all the references** you used under each question. Proper referencing is essential for academic integrity, giving credit to original authors, avoiding plagiarism, and providing a traceable path for verification. `Please check the course syllabus for more details about academic integrity`.\n",
    "\n",
    "---"
   ]
  },
  {
   "cell_type": "markdown",
   "metadata": {
    "id": "4D1KyDVYddM3"
   },
   "source": [
    "#### **Q0)** [[0 point]](https://) While you are allowed to discuss homework assignments, it is essential that you write down your code and solutions yourself. If you have discussed the homework with other students, please mention their names.\n"
   ]
  },
  {
   "cell_type": "markdown",
   "metadata": {
    "id": "wGKyrB_1KV8J"
   },
   "source": [
    "\\##Your answer here"
   ]
  },
  {
   "cell_type": "markdown",
   "metadata": {
    "id": "iPtuZnmeessH"
   },
   "source": [
    "# Logistic Regression and Perceptron"
   ]
  },
  {
   "cell_type": "markdown",
   "metadata": {
    "id": "j0Yhv6bTddM4"
   },
   "source": [
    "####Please run the cell below to import libraries needed for this HW. Please use the autograd numpy, otherwise you will have issues. Please remember to always use the np library for mathematical functions (e.g., np.log, np.exp, np.sum, etc)"
   ]
  },
  {
   "cell_type": "code",
   "execution_count": 1,
   "metadata": {
    "id": "zu-X5y1jddM4"
   },
   "outputs": [],
   "source": [
    "import autograd.numpy as np\n",
    "from autograd import grad\n",
    "import matplotlib.pyplot as plt"
   ]
  },
  {
   "cell_type": "markdown",
   "metadata": {
    "id": "6IciJm7vddM5"
   },
   "source": [
    "#### **Q1**) [[5 points]](https://) Implement the sigmod funcation discussed in class. The function takes a value, x, as input and returns the sigmoid function applied to the value."
   ]
  },
  {
   "cell_type": "code",
   "execution_count": 2,
   "metadata": {
    "id": "SO2a1Sg4ddM5"
   },
   "outputs": [],
   "source": [
    "def sigmoid(x):\n",
    "    \n",
    "    # x: input data\n",
    "    # y: sigmoid of 'x'\n",
    "    # Sigmoid function: f(x) = 1 / (1 + e^(-x))\n",
    "\n",
    "    y = 1/(1+np.exp(-x))\n",
    "    return y\n"
   ]
  },
  {
   "cell_type": "markdown",
   "metadata": {
    "id": "0bzLCGQGddM5"
   },
   "source": [
    "#### **Q2**) [[20 points]](https://) Implement the logistic regression model and the cross entropy cost discussed in class. Note that the logistic regression model relies on the sigmoid function (which you have implemented above) and the linear  model (which you have implemented in HW2). You can use the linear model from HW2 for this problem. Similar to the least-squares cost from HW2, the cross entropy cost takes in as input an array of weights, w, an array of x's and an array of ys and return a float indicating the total cost."
   ]
  },
  {
   "cell_type": "code",
   "execution_count": 3,
   "metadata": {
    "id": "sdWn5N_oddM6"
   },
   "outputs": [],
   "source": [
    "#Your linear model from HW2\n",
    "# Logistic regression model\n",
    "def model(x, w):\n",
    "    # Model function for linear regression.\n",
    "    # x: Input data\n",
    "    w: weights\n",
    "    y = w[0] + w[1] * x\n",
    "    # y: output predictions\n",
    "    return y\n",
    "\n",
    "#The logistic regression cross entropy cost\n",
    "def cross_entropy(w,x,y):\n",
    "    \n",
    "    # w: array of weights\n",
    "    # x: array of x's\n",
    "    # y: array of y's\n",
    "\n",
    "    epsilon = 1e-17\n",
    "    # Get predictions using linear model\n",
    "    xTw = model(x, w)\n",
    "    # Apply sigmoid function to linear predictions\n",
    "    sigmoid_x = sigmoid(xTw)\n",
    "    # Calculate cost for class 1\n",
    "    cost_1 = -y * np.log(epsilon + sigmoid_x)\n",
    "    # Calculate cost for class 0\n",
    "    cost_0 = (1 - y) * np.log(epsilon + 1 - sigmoid_x)\n",
    "    # Combine the costs\n",
    "    _cost = cost_1 - cost_0\n",
    "    # Take the mean to get the total cost\n",
    "    cost = np.mean(_cost)\n",
    "    \n",
    "    # returns float indicating total cost\n",
    "    return cost\n"
   ]
  },
  {
   "cell_type": "markdown",
   "metadata": {
    "id": "U9Xnd6oWddM6"
   },
   "source": [
    "#### **Q3**) [[2 points]](https://) Run the code below to read a data file. Plot a scatter plot of x vs y."
   ]
  },
  {
   "cell_type": "code",
   "execution_count": 4,
   "metadata": {
    "id": "uWCBzSL-ddM6"
   },
   "outputs": [
    {
     "data": {
      "image/png": "[encoded data removed]",
      "text/plain": [
       "<Figure size 640x480 with 1 Axes>"
      ]
     },
     "metadata": {},
     "output_type": "display_data"
    }
   ],
   "source": [
    "csvname = '2d_classification_data_v1_entropy.csv'\n",
    "data = np.loadtxt(csvname,delimiter = ',')\n",
    "x = data[:-1,:]\n",
    "y = data[-1:,:]\n",
    "\n",
    "# Plot scatter plot of x vs y\n",
    "plt.scatter(x, y, color='orchid')\n",
    "plt.grid(linestyle=\"--\")\n",
    "# xy labels\n",
    "plt.xlabel('x')\n",
    "plt.ylabel('y')\n",
    "# x range\n",
    "plt.xticks(range(0, 7))\n",
    "# y range\n",
    "plt.yticks([-1, 0, 1, 2])\n",
    "plt.show()"
   ]
  },
  {
   "cell_type": "markdown",
   "metadata": {
    "id": "n6GtLiy-ddM6"
   },
   "source": [
    "#### **Q4**) [[10 points]](https://) Copy the gradient descent function from HW2. Run the function using the cross_entropy cost and the x and y from above. The parameters should be set to:\n",
    "`max_its=3000, w=[3.0,3.0], alpha=0.1`.\n",
    "#### Save the cost and weight history returned by the gradient descent function. Plot the cost history.\n"
   ]
  },
  {
   "cell_type": "code",
   "execution_count": 5,
   "metadata": {
    "id": "801XFyS7ddM7"
   },
   "outputs": [],
   "source": [
    "##gradient descent from HW2\n",
    "def gradient_descent(g,alpha,max_its,w,x,y):\n",
    "    \n",
    "    # Initialize\n",
    "    gradient = grad(g)\n",
    "\n",
    "    weight_history = [w]\n",
    "    cost_history = [g(w, x, y)]\n",
    "    \n",
    "    # Iterate\n",
    "    for step in range(max_its):\n",
    "\n",
    "        # Step\n",
    "        w -= alpha * gradient(w, x, y)\n",
    "        \n",
    "        # Record\n",
    "        # Cost history: List of costs corresponding to the weights\n",
    "        cost_history.append(g(w, x, y))\n",
    "        # Lists of weights\n",
    "        weight_history.append(w)\n",
    "        \n",
    "    return weight_history, cost_history\n"
   ]
  },
  {
   "cell_type": "code",
   "execution_count": 6,
   "metadata": {
    "id": "uHCaDPApddM7"
   },
   "outputs": [
    {
     "data": {
      "image/png": "[encoded data removed]",
      "text/plain": [
       "<Figure size 640x480 with 1 Axes>"
      ]
     },
     "metadata": {},
     "output_type": "display_data"
    }
   ],
   "source": [
    "##Call the gradient_descent function here\n",
    "##Plot the cost history here\n",
    "\n",
    "# Parameters\n",
    "max_its = 3000\n",
    "w = np.array([3.0, 3.0])\n",
    "alpha = 0.1\n",
    "\n",
    "# Call gradient descent function\n",
    "weights, costs = gradient_descent(cross_entropy, alpha, max_its, w, x, y)\n",
    "steps = np.arange(max_its + 1)\n",
    "\n",
    "# Plot cost history\n",
    "plt.plot(steps, costs, color='hotpink')\n",
    "plt.grid(linestyle=\"--\")\n",
    "# Labels\n",
    "plt.xlabel('Iterations')\n",
    "plt.ylabel('Cost')\n",
    "# x range\n",
    "plt.xticks(range(0, max_its + 2, 250))\n",
    "plt.show()"
   ]
  },
  {
   "cell_type": "markdown",
   "metadata": {
    "id": "BvWGspKXddM7"
   },
   "source": [
    "#### **Q5**) [[10 points]](https://) Implement a logistic regression classifier that takes in the learned weights and x as input and returns the probability of the positive class (note that this is just the output of the sigmoid applied to the linear combination of the x and w)"
   ]
  },
  {
   "cell_type": "code",
   "execution_count": 7,
   "metadata": {
    "id": "to5PZc-xddM7"
   },
   "outputs": [],
   "source": [
    "# Logistic regression classifier\n",
    "def logistic_regression(learned_w,x):\n",
    "\n",
    "    # Input: Learned weights, x\n",
    "    positive_class_prob = sigmoid(model(x, learned_w))\n",
    "    # Returns probability of positive class\n",
    "    return positive_class_prob\n"
   ]
  },
  {
   "cell_type": "markdown",
   "metadata": {
    "id": "TyLEcv5eddM7"
   },
   "source": [
    "#### **Q6**) [[5 points]](https://) Use the learned weights from the last gradient descent run and the logistic regression function implemented above to plot the learned curve. You can use the linspace method (shown below) to generate a list of xs that you can use. You need to generate a y for each of the candidate xs using the logistic regression function and the learned weights. On the same figure, also plot the scatter plot from Q3.\n"
   ]
  },
  {
   "cell_type": "code",
   "execution_count": 8,
   "metadata": {
    "id": "qSrI4rFCddM7"
   },
   "outputs": [
    {
     "data": {
      "image/png": "[encoded data removed]",
      "text/plain": [
       "<Figure size 640x480 with 1 Axes>"
      ]
     },
     "metadata": {},
     "output_type": "display_data"
    }
   ],
   "source": [
    "s = np.linspace(np.min(x),np.max(x))\n",
    "\n",
    "#Your code here\n",
    "learned_weights = weights[-1]\n",
    "ys = logistic_regression(learned_weights, s)\n",
    "\n",
    "plt.scatter(x, y, color='pink')\n",
    "plt.plot(s, ys, color='violet')\n",
    "plt.grid(linestyle=\"--\")\n",
    "plt.xlabel(\"x\")\n",
    "plt.ylabel(\"predicted y\")\n",
    "plt.xticks(range(0, 7))\n",
    "plt.yticks([-1, 0, 1, 2])\n",
    "plt.show()\n"
   ]
  },
  {
   "cell_type": "markdown",
   "metadata": {
    "id": "3aufe1b5aquy"
   },
   "source": [
    "#### **Q7**) [[10 points]](https://) Find the decision boundary of the logistic regression model using the learned weights from the last gradient descent run. Note that, since we have only one feature, the decision boundary will be a point. Utilize the linspace function to identify the x-value where the model's output is closest to 0.5."
   ]
  },
  {
   "cell_type": "code",
   "execution_count": 9,
   "metadata": {
    "id": "JNpQ-70Mcfni"
   },
   "outputs": [
    {
     "name": "stdout",
     "output_type": "stream",
     "text": [
      "Decision Boundary x-value: 1.021102406798222\n"
     ]
    }
   ],
   "source": [
    "# Generate values for s using linspace\n",
    "s = np.linspace(np.min(x),np.max(x), 1000)\n",
    "##Your code here\n",
    "\n",
    "# Assuming weights is the last set of weights from the gradient descent\n",
    "final_weights = weights[-1]\n",
    "\n",
    "# Define the sigmoid function\n",
    "def sigmoid(s):\n",
    "    return 1.0 / (1.0 + np.exp(-s))\n",
    "\n",
    "# Calculate the decision boundary\n",
    "decision_boundary = -final_weights[0] / final_weights[1]\n",
    "\n",
    "# Calculate the corresponding y values using the sigmoid function\n",
    "y_values = sigmoid(final_weights[0] + final_weights[1] * s)\n",
    "\n",
    "# Find the index where the sigmoid output is closest to 0.5\n",
    "closest_index = np.argmin(np.abs(y_values - 0.5))\n",
    "\n",
    "# The x-value at this index is the decision boundary\n",
    "decision_boundary_x = s[closest_index]\n",
    "\n",
    "# Print or use the decision boundary x-value as needed\n",
    "print(\"Decision Boundary x-value:\", decision_boundary_x)\n"
   ]
  },
  {
   "cell_type": "markdown",
   "metadata": {
    "id": "b7VE6Wq_ddM7"
   },
   "source": [
    "#### **Q8**) [[5 points]](https://) Slightly modify the logistic regression model above so that it returns a 1 or 0 based on the specified threshold."
   ]
  },
  {
   "cell_type": "code",
   "execution_count": 10,
   "metadata": {
    "id": "1xZuQeyaddM7"
   },
   "outputs": [],
   "source": [
    "def logistic_regression_modified(learned_w,x, threshold):\n",
    "    \n",
    "    prediction = logistic_regression(learned_w, x)\n",
    "    class_label: int = np.round(prediction - threshold + 0.5)\n",
    "    # Predicted class: either 0 or 1\n",
    "    return class_label\n"
   ]
  },
  {
   "cell_type": "markdown",
   "metadata": {
    "id": "K3ZTW3DMddM8"
   },
   "source": [
    "#### **Q9**) [[20 points]](https://) Write a function (called evaluate) that takes in actual and predicted ys (for a binary classification problem) and return a confusion matrix and the accuracy. Use the modified logistic regression model and the evaluate function below to report the confusion matrix and accuracy for the x and y used for our training at a threshold of 0.5.  "
   ]
  },
  {
   "cell_type": "code",
   "execution_count": 11,
   "metadata": {
    "id": "8aC1zGLqddM8"
   },
   "outputs": [
    {
     "name": "stdout",
     "output_type": "stream",
     "text": [
      "false_positive = 0\n",
      "false_negative = 0\n",
      "true_positive = 6\n",
      "true_negative = 5\n",
      "accuracy = 1.0\n"
     ]
    }
   ],
   "source": [
    "def evaluate(y_actual,y_pred):\n",
    "\n",
    "    false_positive = 0\n",
    "    false_negative = 0\n",
    "    true_positive = 0\n",
    "    true_negative = 0\n",
    "    correct = 0\n",
    "\n",
    "    # Take in actual and predicted ys\n",
    "    for (actual, predicted) in zip(y_actual[0], y_pred[0]):\n",
    "        if actual == predicted:\n",
    "            correct += 1\n",
    "\n",
    "            if actual == 1:\n",
    "                true_positive += 1\n",
    "            else:\n",
    "                true_negative += 1\n",
    "    \n",
    "        elif actual == 1:\n",
    "            false_negative += 1\n",
    "        else:\n",
    "            false_positive += 1\n",
    "    \n",
    "    # change to percentage later\n",
    "    accuracy = correct / len(y_actual[0])\n",
    "\n",
    "    return false_positive, false_negative, true_positive, true_negative, accuracy\n",
    "\n",
    "predictions = logistic_regression_modified(learned_weights, x, 0.5)\n",
    "false_positive, false_negative, true_positive, true_negative, accuracy = evaluate(y, predictions)\n",
    "\n",
    "# Print out all values\n",
    "print(f\"{false_positive = }\")\n",
    "print(f\"{false_negative = }\")\n",
    "print(f\"{true_positive = }\")\n",
    "print(f\"{true_negative = }\")\n",
    "print(f\"{accuracy = }\")\n"
   ]
  },
  {
   "cell_type": "markdown",
   "metadata": {
    "id": "nub9oBOLddM8"
   },
   "source": [
    "#### **Q10**) [[20 points]](https://) Implement the perceptron cost function from the class (the smooth ReLU version). Note that the perceptron cost also uses the linear model (the model function from question 2)."
   ]
  },
  {
   "cell_type": "code",
   "execution_count": 12,
   "metadata": {
    "id": "A9rvEaKSddM8"
   },
   "outputs": [],
   "source": [
    "def perceptron_cost(w, x, y):\n",
    "    \n",
    "    xTw = model(x, w)\n",
    "    soft_s = np.log(1 + np.exp(-y * xTw))\n",
    "    cost = np.mean(soft_s)\n",
    "    \n",
    "    return cost\n"
   ]
  },
  {
   "cell_type": "markdown",
   "metadata": {
    "id": "c7o0xuJ9ddM8"
   },
   "source": [
    "#### **Q11**) [[10 points]](https://) Run gradient descent function using the perceptron cost and the x and y from above and the parameters set to:\n",
    "`max_its=3000, w=[3.0,3.0], alpha=0.1`\n",
    "#### Save the cost and weight history returned by the gradient descent function. Plot the cost history. Note that for the perceptron, y values should be assigned as either -1 or 1.\n"
   ]
  },
  {
   "cell_type": "code",
   "execution_count": 13,
   "metadata": {
    "id": "Q-fXisqkddM8"
   },
   "outputs": [
    {
     "data": {
      "image/png": "[encoded data removed]",
      "text/plain": [
       "<Figure size 640x480 with 1 Axes>"
      ]
     },
     "metadata": {},
     "output_type": "display_data"
    }
   ],
   "source": [
    "##Call the gradient_descent function here\n",
    "##Plot the cost history here\n",
    "\n",
    "max_its = 3000\n",
    "w = np.array([3.0, 3.0])\n",
    "alpha = 0.1\n",
    "\n",
    "# create copy of ys for perceptron, replace 0 with -1\n",
    "y_2 = y.copy()\n",
    "y_2[y_2 == 0] = -1\n",
    "\n",
    "\n",
    "# weights_cross_entropy, costs_cross_entropy = gradient_descent(cross_entropy, alpha, max_its, np.array([3.0, 3.0]), x, y)\n",
    "weights_perceptron, costs_perceptron = gradient_descent(perceptron_cost, alpha, max_its, np.array([3.0, 3.0]), x, y_2)\n",
    "steps = np.arange(max_its + 1)\n",
    "\n",
    "# plt.plot(steps, costs_cross_entropy, color='cornflowerblue', label='cross entropy')\n",
    "plt.plot(steps, costs_perceptron, color='pink', label='perceptron')\n",
    "plt.grid(linestyle=\"--\")\n",
    "plt.xlabel('iteration')\n",
    "plt.ylabel('cost')\n",
    "plt.xticks(range(0, max_its + 2, 250))\n",
    "plt.legend()\n",
    "plt.show()"
   ]
  },
  {
   "cell_type": "markdown",
   "metadata": {
    "id": "703PrpvUc4k0"
   },
   "source": [
    "#### **Q12**) [[10 points]](https://) Find the decision boundary of the perceptron model (i.e. tbe linear model from question 2) using the learned weights from the last gradient descent run. Note that, since we have only one feature, the decision boundary will be a point. Utilize the linspace function to identify the x-value where the model's output is closest to 0."
   ]
  },
  {
   "cell_type": "code",
   "execution_count": 14,
   "metadata": {
    "id": "Qy69wZy3deIk"
   },
   "outputs": [
    {
     "name": "stdout",
     "output_type": "stream",
     "text": [
      "Decision Boundary x-value (Perceptron): 1.021102406798222\n"
     ]
    }
   ],
   "source": [
    "# Generate values for s using linspace\n",
    "s = np.linspace(np.min(x),np.max(x), 1000)\n",
    "##Your code here\n",
    "\n",
    "# Assuming weights is the last set of weights from the gradient descent\n",
    "final_weights_perceptron = weights[-1]\n",
    "\n",
    "# Calculate decision boundary of perceptron model\n",
    "decision_boundary_perceptron = -final_weights_perceptron[0] / final_weights_perceptron[1]\n",
    "\n",
    "# x-value at the decision boundary is where the model's output is closest to 0\n",
    "decision_boundary_x_perceptron = np.argmin(np.abs(s - decision_boundary_perceptron))\n",
    "\n",
    "# Print\n",
    "print(\"Decision Boundary x-value (Perceptron):\", s[decision_boundary_x_perceptron])\n"
   ]
  },
  {
   "cell_type": "markdown",
   "metadata": {
    "id": "_rRcIFjLdmE8"
   },
   "source": [
    "#### **Q13**) [[5 points]](https://) Compare the two decision boundaries you found from Q7 and Q12. If they are similar (or dissimilar), provide your insights on why they appear alike (or different)."
   ]
  },
  {
   "cell_type": "markdown",
   "metadata": {
    "id": "N3TJSCLAeWJB"
   },
   "source": [
    "The two decision boundaries from Q7 and Q12 are the same. They are similar because in both cases, we are working with a linear decision boundary for a binary classification problem with a single feature.\n"
   ]
  },
  {
   "cell_type": "markdown",
   "metadata": {
    "id": "D2XQT2RAecTI"
   },
   "source": [
    "# SKLearn"
   ]
  },
  {
   "cell_type": "markdown",
   "metadata": {
    "id": "KRGR_n4jddM9"
   },
   "source": [
    "#### **Q14**) [[2 points]](https://)  The file 'heart.csv' has 304 lines, each one corresponding to a data point. Each row (i.e., data point), has several columns. Read the data file. Note that the first line is the header describing each column."
   ]
  },
  {
   "cell_type": "code",
   "execution_count": 15,
   "metadata": {
    "id": "iYk6-LaEddM9"
   },
   "outputs": [
    {
     "data": {
      "text/html": [
       "<div>\n",
       "<style scoped>\n",
       "    .dataframe tbody tr th:only-of-type {\n",
       "        vertical-align: middle;\n",
       "    }\n",
       "\n",
       "    .dataframe tbody tr th {\n",
       "        vertical-align: top;\n",
       "    }\n",
       "\n",
       "    .dataframe thead th {\n",
       "        text-align: right;\n",
       "    }\n",
       "</style>\n",
       "<table border=\"1\" class=\"dataframe\">\n",
       "  <thead>\n",
       "    <tr style=\"text-align: right;\">\n",
       "      <th></th>\n",
       "      <th>age</th>\n",
       "      <th>sex</th>\n",
       "      <th>cp</th>\n",
       "      <th>trestbps</th>\n",
       "      <th>chol</th>\n",
       "      <th>fbs</th>\n",
       "      <th>restecg</th>\n",
       "      <th>thalach</th>\n",
       "      <th>exang</th>\n",
       "      <th>oldpeak</th>\n",
       "      <th>slope</th>\n",
       "      <th>ca</th>\n",
       "      <th>thal</th>\n",
       "      <th>target</th>\n",
       "    </tr>\n",
       "  </thead>\n",
       "  <tbody>\n",
       "    <tr>\n",
       "      <th>0</th>\n",
       "      <td>63</td>\n",
       "      <td>1</td>\n",
       "      <td>3</td>\n",
       "      <td>145</td>\n",
       "      <td>233</td>\n",
       "      <td>1</td>\n",
       "      <td>0</td>\n",
       "      <td>150</td>\n",
       "      <td>0</td>\n",
       "      <td>2.3</td>\n",
       "      <td>0</td>\n",
       "      <td>0</td>\n",
       "      <td>1</td>\n",
       "      <td>1</td>\n",
       "    </tr>\n",
       "    <tr>\n",
       "      <th>1</th>\n",
       "      <td>37</td>\n",
       "      <td>1</td>\n",
       "      <td>2</td>\n",
       "      <td>130</td>\n",
       "      <td>250</td>\n",
       "      <td>0</td>\n",
       "      <td>1</td>\n",
       "      <td>187</td>\n",
       "      <td>0</td>\n",
       "      <td>3.5</td>\n",
       "      <td>0</td>\n",
       "      <td>0</td>\n",
       "      <td>2</td>\n",
       "      <td>1</td>\n",
       "    </tr>\n",
       "    <tr>\n",
       "      <th>2</th>\n",
       "      <td>41</td>\n",
       "      <td>0</td>\n",
       "      <td>1</td>\n",
       "      <td>130</td>\n",
       "      <td>204</td>\n",
       "      <td>0</td>\n",
       "      <td>0</td>\n",
       "      <td>172</td>\n",
       "      <td>0</td>\n",
       "      <td>1.4</td>\n",
       "      <td>2</td>\n",
       "      <td>0</td>\n",
       "      <td>2</td>\n",
       "      <td>1</td>\n",
       "    </tr>\n",
       "    <tr>\n",
       "      <th>3</th>\n",
       "      <td>56</td>\n",
       "      <td>1</td>\n",
       "      <td>1</td>\n",
       "      <td>120</td>\n",
       "      <td>236</td>\n",
       "      <td>0</td>\n",
       "      <td>1</td>\n",
       "      <td>178</td>\n",
       "      <td>0</td>\n",
       "      <td>0.8</td>\n",
       "      <td>2</td>\n",
       "      <td>0</td>\n",
       "      <td>2</td>\n",
       "      <td>1</td>\n",
       "    </tr>\n",
       "    <tr>\n",
       "      <th>4</th>\n",
       "      <td>57</td>\n",
       "      <td>0</td>\n",
       "      <td>0</td>\n",
       "      <td>120</td>\n",
       "      <td>354</td>\n",
       "      <td>0</td>\n",
       "      <td>1</td>\n",
       "      <td>163</td>\n",
       "      <td>1</td>\n",
       "      <td>0.6</td>\n",
       "      <td>2</td>\n",
       "      <td>0</td>\n",
       "      <td>2</td>\n",
       "      <td>1</td>\n",
       "    </tr>\n",
       "  </tbody>\n",
       "</table>\n",
       "</div>"
      ],
      "text/plain": [
       "   age  sex  cp  trestbps  chol  fbs  restecg  thalach  exang  oldpeak  slope  \\\n",
       "0   63    1   3       145   233    1        0      150      0      2.3      0   \n",
       "1   37    1   2       130   250    0        1      187      0      3.5      0   \n",
       "2   41    0   1       130   204    0        0      172      0      1.4      2   \n",
       "3   56    1   1       120   236    0        1      178      0      0.8      2   \n",
       "4   57    0   0       120   354    0        1      163      1      0.6      2   \n",
       "\n",
       "   ca  thal  target  \n",
       "0   0     1       1  \n",
       "1   0     2       1  \n",
       "2   0     2       1  \n",
       "3   0     2       1  \n",
       "4   0     2       1  "
      ]
     },
     "execution_count": 15,
     "metadata": {},
     "output_type": "execute_result"
    }
   ],
   "source": [
    "##Your code here\n",
    "import pandas as pd\n",
    "csvname = 'heart.csv'\n",
    "dataframe = pd.read_csv(csvname, delimiter = ',')\n",
    "dataframe.head()"
   ]
  },
  {
   "cell_type": "markdown",
   "metadata": {
    "id": "ic9dtbz3ddM9"
   },
   "source": [
    "#### **Q15**) [[2 points]](https://) Use the data above to set y to be the \"target\" and X to be the remaining columns."
   ]
  },
  {
   "cell_type": "code",
   "execution_count": 16,
   "metadata": {
    "id": "nVPe4lrKddM9"
   },
   "outputs": [
    {
     "name": "stdout",
     "output_type": "stream",
     "text": [
      "   age  sex  cp  trestbps  chol  fbs  restecg  thalach  exang  oldpeak  slope  \\\n",
      "0   63    1   3       145   233    1        0      150      0      2.3      0   \n",
      "1   37    1   2       130   250    0        1      187      0      3.5      0   \n",
      "2   41    0   1       130   204    0        0      172      0      1.4      2   \n",
      "3   56    1   1       120   236    0        1      178      0      0.8      2   \n",
      "4   57    0   0       120   354    0        1      163      1      0.6      2   \n",
      "\n",
      "   ca  thal  \n",
      "0   0     1  \n",
      "1   0     2  \n",
      "2   0     2  \n",
      "3   0     2  \n",
      "4   0     2  \n",
      "0    1\n",
      "1    1\n",
      "2    1\n",
      "3    1\n",
      "4    1\n",
      "Name: target, dtype: int64\n"
     ]
    }
   ],
   "source": [
    "##Your code here\n",
    "x = dataframe.drop(\"target\", axis=1)\n",
    "y = dataframe[\"target\"]\n",
    "print(x.head())\n",
    "print(y.head())"
   ]
  },
  {
   "cell_type": "markdown",
   "metadata": {
    "id": "_2-u1Vq3ddM9"
   },
   "source": [
    "#### **Q16**) [[2 points]](https://) Run the code below to import the logistic regression and the train_test split functions from sklearn. Split your data into 80% train 20% test."
   ]
  },
  {
   "cell_type": "code",
   "execution_count": 17,
   "metadata": {
    "id": "6nZjLXgDddM-"
   },
   "outputs": [
    {
     "name": "stdout",
     "output_type": "stream",
     "text": [
      "X train\n",
      "     age  sex  cp  trestbps  chol  fbs  restecg  thalach  exang  oldpeak  \\\n",
      "132   42    1   1       120   295    0        1      162      0      0.0   \n",
      "202   58    1   0       150   270    0        0      111      1      0.8   \n",
      "196   46    1   2       150   231    0        1      147      0      3.6   \n",
      "75    55    0   1       135   250    0        0      161      0      1.4   \n",
      "176   60    1   0       117   230    1        1      160      1      1.4   \n",
      "\n",
      "     slope  ca  thal  \n",
      "132      2   0     2  \n",
      "202      2   0     3  \n",
      "196      1   0     2  \n",
      "75       1   0     2  \n",
      "176      2   2     3  \n",
      "y train\n",
      "132    1\n",
      "202    0\n",
      "196    0\n",
      "75     1\n",
      "176    0\n",
      "Name: target, dtype: int64\n",
      "x test\n",
      "     age  sex  cp  trestbps  chol  fbs  restecg  thalach  exang  oldpeak  \\\n",
      "179   57    1   0       150   276    0        0      112      1      0.6   \n",
      "228   59    1   3       170   288    0        0      159      0      0.2   \n",
      "111   57    1   2       150   126    1        1      173      0      0.2   \n",
      "246   56    0   0       134   409    0        0      150      1      1.9   \n",
      "60    71    0   2       110   265    1        0      130      0      0.0   \n",
      "\n",
      "     slope  ca  thal  \n",
      "179      1   1     1  \n",
      "228      1   0     3  \n",
      "111      2   1     3  \n",
      "246      1   2     3  \n",
      "60       2   1     2  \n",
      "y test\n",
      "179    0\n",
      "228    0\n",
      "111    1\n",
      "246    0\n",
      "60     1\n",
      "Name: target, dtype: int64\n"
     ]
    }
   ],
   "source": [
    "from sklearn.linear_model import LogisticRegression\n",
    "from sklearn.model_selection import train_test_split\n",
    "\n",
    "##Your code here\n",
    "# Split data in 80% train 20% test\n",
    "X_train, X_test, y_train, y_test = train_test_split(x, y, test_size=0.2, random_state=42)\n",
    "print(\"X train\")\n",
    "print(X_train.head())\n",
    "print(\"y train\")\n",
    "print(y_train.head())\n",
    "print(\"x test\")\n",
    "print(X_test.head())\n",
    "print(\"y test\")\n",
    "print(y_test.head())\n"
   ]
  },
  {
   "cell_type": "markdown",
   "metadata": {
    "id": "PwXJsWHvddM-"
   },
   "source": [
    "#### **Q17**) [[5 points]](https://) Use sklearn to fit a logistic regression model on your training set. Use all the default parameter. Do not evaluate at this point. (You can find out about sklearn logistic regression here: https://scikit-learn.org/stable/modules/generated/sklearn.linear_model.LogisticRegression.html)"
   ]
  },
  {
   "cell_type": "code",
   "execution_count": 18,
   "metadata": {
    "id": "z3W7tL6cddM-"
   },
   "outputs": [
    {
     "name": "stderr",
     "output_type": "stream",
     "text": [
      "/Users/ivoryang/anaconda3/lib/python3.11/site-packages/sklearn/linear_model/_logistic.py:460: ConvergenceWarning: lbfgs failed to converge (status=1):\n",
      "STOP: TOTAL NO. of ITERATIONS REACHED LIMIT.\n",
      "\n",
      "Increase the number of iterations (max_iter) or scale the data as shown in:\n",
      "    https://scikit-learn.org/stable/modules/preprocessing.html\n",
      "Please also refer to the documentation for alternative solver options:\n",
      "    https://scikit-learn.org/stable/modules/linear_model.html#logistic-regression\n",
      "  n_iter_i = _check_optimize_result(\n"
     ]
    },
    {
     "data": {
      "text/html": [
       "<style>#sk-container-id-1 {color: black;}#sk-container-id-1 pre{padding: 0;}#sk-container-id-1 div.sk-toggleable {background-color: white;}#sk-container-id-1 label.sk-toggleable__label {cursor: pointer;display: block;width: 100%;margin-bottom: 0;padding: 0.3em;box-sizing: border-box;text-align: center;}#sk-container-id-1 label.sk-toggleable__label-arrow:before {content: \"▸\";float: left;margin-right: 0.25em;color: #696969;}#sk-container-id-1 label.sk-toggleable__label-arrow:hover:before {color: black;}#sk-container-id-1 div.sk-estimator:hover label.sk-toggleable__label-arrow:before {color: black;}#sk-container-id-1 div.sk-toggleable__content {max-height: 0;max-width: 0;overflow: hidden;text-align: left;background-color: #f0f8ff;}#sk-container-id-1 div.sk-toggleable__content pre {margin: 0.2em;color: black;border-radius: 0.25em;background-color: #f0f8ff;}#sk-container-id-1 input.sk-toggleable__control:checked~div.sk-toggleable__content {max-height: 200px;max-width: 100%;overflow: auto;}#sk-container-id-1 input.sk-toggleable__control:checked~label.sk-toggleable__label-arrow:before {content: \"▾\";}#sk-container-id-1 div.sk-estimator input.sk-toggleable__control:checked~label.sk-toggleable__label {background-color: #d4ebff;}#sk-container-id-1 div.sk-label input.sk-toggleable__control:checked~label.sk-toggleable__label {background-color: #d4ebff;}#sk-container-id-1 input.sk-hidden--visually {border: 0;clip: rect(1px 1px 1px 1px);clip: rect(1px, 1px, 1px, 1px);height: 1px;margin: -1px;overflow: hidden;padding: 0;position: absolute;width: 1px;}#sk-container-id-1 div.sk-estimator {font-family: monospace;background-color: #f0f8ff;border: 1px dotted black;border-radius: 0.25em;box-sizing: border-box;margin-bottom: 0.5em;}#sk-container-id-1 div.sk-estimator:hover {background-color: #d4ebff;}#sk-container-id-1 div.sk-parallel-item::after {content: \"\";width: 100%;border-bottom: 1px solid gray;flex-grow: 1;}#sk-container-id-1 div.sk-label:hover label.sk-toggleable__label {background-color: #d4ebff;}#sk-container-id-1 div.sk-serial::before {content: \"\";position: absolute;border-left: 1px solid gray;box-sizing: border-box;top: 0;bottom: 0;left: 50%;z-index: 0;}#sk-container-id-1 div.sk-serial {display: flex;flex-direction: column;align-items: center;background-color: white;padding-right: 0.2em;padding-left: 0.2em;position: relative;}#sk-container-id-1 div.sk-item {position: relative;z-index: 1;}#sk-container-id-1 div.sk-parallel {display: flex;align-items: stretch;justify-content: center;background-color: white;position: relative;}#sk-container-id-1 div.sk-item::before, #sk-container-id-1 div.sk-parallel-item::before {content: \"\";position: absolute;border-left: 1px solid gray;box-sizing: border-box;top: 0;bottom: 0;left: 50%;z-index: -1;}#sk-container-id-1 div.sk-parallel-item {display: flex;flex-direction: column;z-index: 1;position: relative;background-color: white;}#sk-container-id-1 div.sk-parallel-item:first-child::after {align-self: flex-end;width: 50%;}#sk-container-id-1 div.sk-parallel-item:last-child::after {align-self: flex-start;width: 50%;}#sk-container-id-1 div.sk-parallel-item:only-child::after {width: 0;}#sk-container-id-1 div.sk-dashed-wrapped {border: 1px dashed gray;margin: 0 0.4em 0.5em 0.4em;box-sizing: border-box;padding-bottom: 0.4em;background-color: white;}#sk-container-id-1 div.sk-label label {font-family: monospace;font-weight: bold;display: inline-block;line-height: 1.2em;}#sk-container-id-1 div.sk-label-container {text-align: center;}#sk-container-id-1 div.sk-container {/* jupyter's `normalize.less` sets `[hidden] { display: none; }` but bootstrap.min.css set `[hidden] { display: none !important; }` so we also need the `!important` here to be able to override the default hidden behavior on the sphinx rendered scikit-learn.org. See: https://github.com/scikit-learn/scikit-learn/issues/21755 */display: inline-block !important;position: relative;}#sk-container-id-1 div.sk-text-repr-fallback {display: none;}</style><div id=\"sk-container-id-1\" class=\"sk-top-container\"><div class=\"sk-text-repr-fallback\"><pre>LogisticRegression()</pre><b>In a Jupyter environment, please rerun this cell to show the HTML representation or trust the notebook. <br />On GitHub, the HTML representation is unable to render, please try loading this page with nbviewer.org.</b></div><div class=\"sk-container\" hidden><div class=\"sk-item\"><div class=\"sk-estimator sk-toggleable\"><input class=\"sk-toggleable__control sk-hidden--visually\" id=\"sk-estimator-id-1\" type=\"checkbox\" checked><label for=\"sk-estimator-id-1\" class=\"sk-toggleable__label sk-toggleable__label-arrow\">LogisticRegression</label><div class=\"sk-toggleable__content\"><pre>LogisticRegression()</pre></div></div></div></div></div>"
      ],
      "text/plain": [
       "LogisticRegression()"
      ]
     },
     "execution_count": 18,
     "metadata": {},
     "output_type": "execute_result"
    }
   ],
   "source": [
    "##Your code here\n",
    "model = LogisticRegression()\n",
    "model.fit(X_train, y_train)"
   ]
  },
  {
   "cell_type": "markdown",
   "metadata": {
    "id": "T6s2wFcZddM-"
   },
   "source": [
    "#### **Q18**) [[5 points]](https://) Use the .predict_proba function of the logistic regression model that you have learned on your X_test. Note that the .predict_proba function returns an array of tuples where each element corresponds to the predicted probability for class 0 and 1 of the data point."
   ]
  },
  {
   "cell_type": "code",
   "execution_count": 19,
   "metadata": {
    "id": "8rn-IGCKddNC"
   },
   "outputs": [
    {
     "name": "stdout",
     "output_type": "stream",
     "text": [
      "[[8.88374395e-01 1.11625605e-01]\n",
      " [2.12890600e-01 7.87109400e-01]\n",
      " [1.88662755e-01 8.11337245e-01]\n",
      " [9.75373596e-01 2.46264036e-02]\n",
      " [6.78255651e-02 9.32174435e-01]\n",
      " [9.06330004e-02 9.09367000e-01]\n",
      " [3.91949426e-01 6.08050574e-01]\n",
      " [9.98996183e-01 1.00381695e-03]\n",
      " [9.95544697e-01 4.45530303e-03]\n",
      " [4.52058244e-01 5.47941756e-01]\n",
      " [2.05367767e-01 7.94632233e-01]\n",
      " [9.31478410e-01 6.85215896e-02]\n",
      " [6.98014649e-02 9.30198535e-01]\n",
      " [9.79553964e-01 2.04460357e-02]\n",
      " [1.61879879e-02 9.83812012e-01]\n",
      " [4.47366116e-02 9.55263388e-01]\n",
      " [2.05009675e-02 9.79499032e-01]\n",
      " [9.52745448e-01 4.72545521e-02]\n",
      " [9.94281831e-01 5.71816881e-03]\n",
      " [9.90399653e-01 9.60034713e-03]\n",
      " [2.65698572e-01 7.34301428e-01]\n",
      " [9.90490372e-01 9.50962844e-03]\n",
      " [8.70220690e-01 1.29779310e-01]\n",
      " [1.97545481e-01 8.02454519e-01]\n",
      " [7.71098400e-02 9.22890160e-01]\n",
      " [3.30796538e-01 6.69203462e-01]\n",
      " [9.25167628e-02 9.07483237e-01]\n",
      " [3.08954833e-01 6.91045167e-01]\n",
      " [9.94266889e-01 5.73311056e-03]\n",
      " [8.52921408e-02 9.14707859e-01]\n",
      " [9.61629881e-01 3.83701188e-02]\n",
      " [9.72785665e-01 2.72143350e-02]\n",
      " [9.94991531e-01 5.00846940e-03]\n",
      " [9.27545839e-01 7.24541606e-02]\n",
      " [3.07400289e-01 6.92599711e-01]\n",
      " [9.34626240e-01 6.53737596e-02]\n",
      " [3.52113289e-01 6.47886711e-01]\n",
      " [1.22800712e-01 8.77199288e-01]\n",
      " [1.86372204e-01 8.13627796e-01]\n",
      " [1.39948854e-01 8.60051146e-01]\n",
      " [4.86999436e-01 5.13000564e-01]\n",
      " [1.61937905e-01 8.38062095e-01]\n",
      " [1.83684513e-01 8.16315487e-01]\n",
      " [3.05221163e-01 6.94778837e-01]\n",
      " [1.54313085e-01 8.45686915e-01]\n",
      " [9.95198617e-01 4.80138300e-03]\n",
      " [1.89391596e-01 8.10608404e-01]\n",
      " [4.42886166e-02 9.55711383e-01]\n",
      " [9.30903676e-01 6.90963236e-02]\n",
      " [9.72043305e-01 2.79566945e-02]\n",
      " [9.40976807e-01 5.90231931e-02]\n",
      " [9.88790215e-01 1.12097855e-02]\n",
      " [1.26697297e-01 8.73302703e-01]\n",
      " [2.06987304e-02 9.79301270e-01]\n",
      " [7.82666229e-01 2.17333771e-01]\n",
      " [9.99470413e-01 5.29587068e-04]\n",
      " [9.59700491e-01 4.02995090e-02]\n",
      " [3.51312781e-02 9.64868722e-01]\n",
      " [9.90657874e-01 9.34212593e-03]\n",
      " [9.96542202e-01 3.45779752e-03]\n",
      " [9.72456130e-01 2.75438696e-02]]\n"
     ]
    }
   ],
   "source": [
    "##Your code here\n",
    "predictions = model.predict_proba(X_test)\n",
    "\n",
    "print(predictions)\n"
   ]
  },
  {
   "cell_type": "markdown",
   "metadata": {
    "id": "42_V2SDaddNC"
   },
   "source": [
    "#### **Q19**) [[2 points]](https://) Filter the predicted probabilties from the last question to an array containing only the probabilites for class 1. I.e., you should no longer have tuples."
   ]
  },
  {
   "cell_type": "code",
   "execution_count": 20,
   "metadata": {
    "id": "309-ZJSZddNC"
   },
   "outputs": [
    {
     "name": "stdout",
     "output_type": "stream",
     "text": [
      "[1.11625605e-01 7.87109400e-01 8.11337245e-01 2.46264036e-02\n",
      " 9.32174435e-01 9.09367000e-01 6.08050574e-01 1.00381695e-03\n",
      " 4.45530303e-03 5.47941756e-01 7.94632233e-01 6.85215896e-02\n",
      " 9.30198535e-01 2.04460357e-02 9.83812012e-01 9.55263388e-01\n",
      " 9.79499032e-01 4.72545521e-02 5.71816881e-03 9.60034713e-03\n",
      " 7.34301428e-01 9.50962844e-03 1.29779310e-01 8.02454519e-01\n",
      " 9.22890160e-01 6.69203462e-01 9.07483237e-01 6.91045167e-01\n",
      " 5.73311056e-03 9.14707859e-01 3.83701188e-02 2.72143350e-02\n",
      " 5.00846940e-03 7.24541606e-02 6.92599711e-01 6.53737596e-02\n",
      " 6.47886711e-01 8.77199288e-01 8.13627796e-01 8.60051146e-01\n",
      " 5.13000564e-01 8.38062095e-01 8.16315487e-01 6.94778837e-01\n",
      " 8.45686915e-01 4.80138300e-03 8.10608404e-01 9.55711383e-01\n",
      " 6.90963236e-02 2.79566945e-02 5.90231931e-02 1.12097855e-02\n",
      " 8.73302703e-01 9.79301270e-01 2.17333771e-01 5.29587068e-04\n",
      " 4.02995090e-02 9.64868722e-01 9.34212593e-03 3.45779752e-03\n",
      " 2.75438696e-02]\n"
     ]
    }
   ],
   "source": [
    "##Your code here\n",
    "predictions = predictions[:, 1]\n",
    "\n",
    "print(predictions)\n"
   ]
  },
  {
   "cell_type": "markdown",
   "metadata": {
    "id": "W1ckgSiNddND"
   },
   "source": [
    "#### **Q20**) [[8 points]](https://) Use the roc_curve function from sklearn (https://scikit-learn.org/stable/modules/generated/sklearn.metrics.roc_curve.html) to plot the ROC curve for your predictions using the predicted probabilities for class 1 and your y_test (use the default parameters). Also, print out the thresholds generated by the roc_curve function."
   ]
  },
  {
   "cell_type": "code",
   "execution_count": 21,
   "metadata": {
    "id": "BBJA8YA0ddND"
   },
   "outputs": [
    {
     "name": "stdout",
     "output_type": "stream",
     "text": [
      "thresholds = array([           inf, 9.83812012e-01, 9.09367000e-01, 9.07483237e-01,\n",
      "       8.11337245e-01, 8.10608404e-01, 7.94632233e-01, 7.87109400e-01,\n",
      "       6.91045167e-01, 6.69203462e-01, 5.13000564e-01, 1.11625605e-01,\n",
      "       7.24541606e-02, 6.90963236e-02, 6.85215896e-02, 4.02995090e-02,\n",
      "       3.83701188e-02, 5.29587068e-04])\n"
     ]
    },
    {
     "data": {
      "image/png": "[encoded data removed]",
      "text/plain": [
       "<Figure size 640x480 with 1 Axes>"
      ]
     },
     "metadata": {},
     "output_type": "display_data"
    }
   ],
   "source": [
    "##Your code here\n",
    "from sklearn.metrics import roc_curve\n",
    "\n",
    "# Print thresholds generated by roc_curve function\n",
    "fpr, tpr, thresholds = roc_curve(y_test, predictions)\n",
    "print(f\"{thresholds = }\")\n",
    "\n",
    "# Plot ROC curve\n",
    "plt.plot(fpr, tpr, color='violet', label='ROC curve')\n",
    "plt.grid(linestyle=\"--\")\n",
    "\n",
    "# x and y labels\n",
    "plt.xlabel('False Positive Rate')\n",
    "plt.ylabel('True Positive Rate')\n",
    "# Legend\n",
    "plt.legend(loc=\"lower right\")\n",
    "\n",
    "plt.show()"
   ]
  },
  {
   "cell_type": "markdown",
   "metadata": {
    "id": "7t7ougeLddND"
   },
   "source": [
    "#### **Q21**) [[2 points]](https://) Use the roc_auc_score function from sklearn (https://scikit-learn.org/stable/modules/generated/sklearn.metrics.roc_auc_score.html#sklearn.metrics.roc_auc_score) to report the AUC score using the exact same setup as the last question."
   ]
  },
  {
   "cell_type": "code",
   "execution_count": 22,
   "metadata": {
    "id": "4jh8bffvddND"
   },
   "outputs": [
    {
     "name": "stdout",
     "output_type": "stream",
     "text": [
      "AUC = 0.927801724137931\n"
     ]
    }
   ],
   "source": [
    "##Your code here\n",
    "from sklearn.metrics import roc_auc_score\n",
    "\n",
    "# Report AUC Score\n",
    "AUC = roc_auc_score(y_test, predictions)\n",
    "print(f\"{AUC = }\")"
   ]
  },
  {
   "cell_type": "code",
   "execution_count": null,
   "metadata": {},
   "outputs": [],
   "source": []
  }
 ],
 "metadata": {
  "colab": {
   "provenance": []
  },
  "kernelspec": {
   "display_name": "Python 3 (ipykernel)",
   "language": "python",
   "name": "python3"
  },
  "language_info": {
   "codemirror_mode": {
    "name": "ipython",
    "version": 3
   },
   "file_extension": ".py",
   "mimetype": "text/x-python",
   "name": "python",
   "nbconvert_exporter": "python",
   "pygments_lexer": "ipython3",
   "version": "3.11.5"
  }
 },
 "nbformat": 4,
 "nbformat_minor": 1
}
